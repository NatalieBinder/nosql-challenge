{
 "cells": [
  {
   "cell_type": "markdown",
   "id": "9a57c4c6",
   "metadata": {},
   "source": [
    "# Eat Safe, Love"
   ]
  },
  {
   "cell_type": "markdown",
   "id": "064ef857",
   "metadata": {},
   "source": [
    "## Notebook Set Up"
   ]
  },
  {
   "cell_type": "code",
   "execution_count": 1,
   "id": "3ecdd008",
   "metadata": {
    "tags": []
   },
   "outputs": [
    {
     "ename": "ModuleNotFoundError",
     "evalue": "No module named 'pymongo'",
     "output_type": "error",
     "traceback": [
      "\u001b[1;31m---------------------------------------------------------------------------\u001b[0m",
      "\u001b[1;31mModuleNotFoundError\u001b[0m                       Traceback (most recent call last)",
      "Cell \u001b[1;32mIn[1], line 2\u001b[0m\n\u001b[0;32m      1\u001b[0m \u001b[38;5;66;03m# Import dependencies\u001b[39;00m\n\u001b[1;32m----> 2\u001b[0m \u001b[38;5;28;01mfrom\u001b[39;00m \u001b[38;5;21;01mpymongo\u001b[39;00m \u001b[38;5;28;01mimport\u001b[39;00m MongoClient\n\u001b[0;32m      3\u001b[0m \u001b[38;5;28;01mfrom\u001b[39;00m \u001b[38;5;21;01mpprint\u001b[39;00m \u001b[38;5;28;01mimport\u001b[39;00m pprint\n",
      "\u001b[1;31mModuleNotFoundError\u001b[0m: No module named 'pymongo'"
     ]
    }
   ],
   "source": [
    "# Import dependencies\n",
    "from pymongo import MongoClient\n",
    "from pprint import pprint"
   ]
  },
  {
   "cell_type": "code",
   "execution_count": null,
   "id": "59390c4a",
   "metadata": {},
   "outputs": [],
   "source": [
    "# Create an instance of MongoClient\n",
    "mongo = MongoClient(port=27017)"
   ]
  },
  {
   "cell_type": "code",
   "execution_count": null,
   "id": "71e373c1",
   "metadata": {},
   "outputs": [],
   "source": [
    "# assign the uk_food database to a variable name\n",
    "db = mongo['uk_food']"
   ]
  },
  {
   "cell_type": "code",
   "execution_count": null,
   "id": "18ab463c",
   "metadata": {},
   "outputs": [],
   "source": [
    "# review the collections in our database\n",
    "db.list_collection_names()"
   ]
  },
  {
   "cell_type": "code",
   "execution_count": null,
   "id": "11c9f11b",
   "metadata": {},
   "outputs": [],
   "source": [
    "# assign the collection to a variable\n",
    "establishments = db['establishments']"
   ]
  },
  {
   "cell_type": "markdown",
   "id": "d5671434",
   "metadata": {},
   "source": [
    "## Part 3: Exploratory Analysis\n",
    "Unless otherwise stated, for each question: \n",
    "* Use `count_documents` to display the number of documents contained in the result.\n",
    "* Display the first document in the results using `pprint`.\n",
    "* Convert the result to a Pandas DataFrame, print the number of rows in the DataFrame, and display the first 10 rows."
   ]
  },
  {
   "cell_type": "markdown",
   "id": "314bd884",
   "metadata": {},
   "source": [
    "### 1. Which establishments have a hygiene score equal to 20?"
   ]
  },
  {
   "cell_type": "code",
   "execution_count": null,
   "id": "c2da7648",
   "metadata": {},
   "outputs": [],
   "source": [
    "# Find the establishments with a hygiene score of 20\n",
    "query = {'scores.Hygiene': {'$eq': 20}}\n",
    "\n",
    "# Use count_documents to display the number of documents in the result\n",
    "results = establishments.find(query)\n",
    "\n",
    "# Display the first document in the results using pprint\n",
    "for i in range(1):\n",
    "    print(\"____________________________________________________________\")\n",
    "    pprint(f\"The first document in in the results is:\")\n",
    "    pprint(results[i])\n",
    "   \n",
    "print(\"______________________________________________________________________________________\")\n",
    "results = establishments.count_documents(query)\n",
    "print(f\"The total number of establishments with a hygiene score of 20 is: {results}\")\n",
    "print(\"______________________________________________________________________________________\")\n",
    "    "
   ]
  },
  {
   "cell_type": "code",
   "execution_count": null,
   "id": "a6e5cece",
   "metadata": {},
   "outputs": [],
   "source": [
    "# Convert the result to a Pandas DataFrame\n",
    "hygiene_df = pd.DataFrame(establishments.find(hygiene_query))\n",
    "# Display the number of rows in the DataFrame\n",
    "print(f\"Rows in this DataFrame: {len(hygiene_df)}\")\n",
    "# Display the first 10 rows of the DataFrame\n",
    "establishments_df.head(10)"
   ]
  },
  {
   "cell_type": "markdown",
   "id": "0ef4395a",
   "metadata": {},
   "source": [
    "### 2. Which establishments in London have a `RatingValue` greater than or equal to 4?"
   ]
  },
  {
   "cell_type": "code",
   "execution_count": null,
   "id": "93c63829",
   "metadata": {},
   "outputs": [],
   "source": [
    "# Find the establishments with London as the Local Authority and has a RatingValue greater than or equal to 4.\n",
    "ratingValue_query = {'LocalAuthorityName': {'$regex': 'London'}, \n",
    "          'RatingValue': {'$gte': 4}\n",
    "                    }\n",
    "\n",
    "\n",
    "# Use count_documents to display the number of documents in the result\n",
    "print(f\"The number of documents in the result: {establishments.count_documents(ratingValue_query)}\")\n",
    "# Display the first document in the results using pprint\n",
    "pprint(establishments.find_one(ratingValue_query))"
   ]
  },
  {
   "cell_type": "code",
   "execution_count": null,
   "id": "07e24ccb",
   "metadata": {},
   "outputs": [],
   "source": [
    "# Convert the result to a Pandas DataFrame\n",
    "ratingValue_df = pd.DataFrame(establishments.find(ratingValue_query))\n",
    "# Display the number of rows in the DataFrame\n",
    "print(f\"Rows in this DataFrame: {len(ratingValue_df)}\")\n",
    "\n",
    "# Display the first 10 rows of the DataFrame\n",
    "ratingValue_df.head(10)"
   ]
  },
  {
   "cell_type": "markdown",
   "id": "4e570caf",
   "metadata": {},
   "source": [
    "### 3. What are the top 5 establishments with a `RatingValue` rating value of 5, sorted by lowest hygiene score, nearest to the new restaurant added, \"Penang Flavours\"?"
   ]
  },
  {
   "cell_type": "code",
   "execution_count": null,
   "id": "7f599f3d",
   "metadata": {},
   "outputs": [],
   "source": [
    "# Search within 0.01 degree on either side of the latitude and longitude.\n",
    "# Rating value must equal 5\n",
    "# Sort by hygiene score\n",
    "\n",
    "degree_search = 0.01\n",
    "latitude = establishments.find_one({'AddressLine1':'Penang Flavours'})['geocode']['latitude']\n",
    "longitude = establishments.find_one({'AddressLine1':'Penang Flavours'})['geocode']['longitude']\n",
    "\n",
    "query_3 = {'RatingValue': 5, \n",
    "         'geocode.latitude': {'$lte': (latitude + degree_search), '$gte': (latitude - degree_search)}, \n",
    "         'geocode.longitude': {'$lte': (longitude + degree_search), '$gte': (longitude - degree_search)} \n",
    "         }\n",
    "sort_3 =  [('scores.Hygiene', 1)]\n",
    "\n",
    "# Print the results\n",
    "pprint(list(establishments.find(query_3).sort(sort_3).limit(5)))\n"
   ]
  },
  {
   "cell_type": "code",
   "execution_count": null,
   "id": "a6ad16f7",
   "metadata": {},
   "outputs": [],
   "source": [
    "# Convert result to Pandas DataFrame\n",
    "df_3= pd.DataFrame(list(establishments.find(query_3).sort(sort_3).limit(5)))\n",
    "print(f\"Rows in this DataFrame: {len(df_3)}\")\n",
    "df_3.head()"
   ]
  },
  {
   "cell_type": "markdown",
   "id": "67281254",
   "metadata": {},
   "source": [
    "### 4. How many establishments in each Local Authority area have a hygiene score of 0?"
   ]
  },
  {
   "cell_type": "code",
   "execution_count": null,
   "id": "4eeb227e",
   "metadata": {},
   "outputs": [],
   "source": [
    "# Create a pipeline that: \n",
    "# 1. Matches establishments with a hygiene score of 0\n",
    "match_query = {'$match': {'scores.Hygiene': 0}}\n",
    "\n",
    "# 2. Groups the matches by Local Authority\n",
    "group_query = {'$group': {'_id': '$LocalAuthorityName', \n",
    "                          'count': {'$sum': 1}\n",
    "                         }\n",
    "              }\n",
    "\n",
    "# 3. Sorts the matches from highest to lowest\n",
    "sort_values = {'$sort': {'count': -1}}\n",
    "\n",
    "# Print the number of documents in the result\n",
    "pipeline = [match_query, group_query, sort_values]\n",
    "results = list(establishments.aggregate(pipeline))\n",
    "print(f\"The number of documents in the result: {len(results)}\")\n",
    "\n",
    "# Print the first 10 results\n",
    "pprint(results[0:10])"
   ]
  },
  {
   "cell_type": "code",
   "execution_count": null,
   "id": "d8aab364",
   "metadata": {},
   "outputs": [],
   "source": [
    "# Convert the result to a Pandas DataFrame\n",
    "result_df = pd.DataFrame(results)\n",
    "# Display the number of rows in the DataFrame\n",
    "print(f\"Rows in this DataFrame: {len(result_df)}\")\n",
    "# Display the first 10 rows of the DataFrame\n",
    "result_df.head(10)\n"
   ]
  }
 ],
 "metadata": {
  "kernelspec": {
   "display_name": "Python 3 (ipykernel)",
   "language": "python",
   "name": "python3"
  },
  "language_info": {
   "codemirror_mode": {
    "name": "ipython",
    "version": 3
   },
   "file_extension": ".py",
   "mimetype": "text/x-python",
   "name": "python",
   "nbconvert_exporter": "python",
   "pygments_lexer": "ipython3",
   "version": "3.10.13"
  }
 },
 "nbformat": 4,
 "nbformat_minor": 5
}
